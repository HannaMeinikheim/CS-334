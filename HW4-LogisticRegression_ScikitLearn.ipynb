{
 "cells": [
  {
   "cell_type": "markdown",
   "id": "4c7d73d8",
   "metadata": {},
   "source": [
    "# HW 4 CS 334\n",
    "Hanna Meinikheim\n",
    "\n",
    "9-10-2021\n",
    "\n",
    "Logistic Regression"
   ]
  },
  {
   "cell_type": "markdown",
   "id": "ee8f90d5",
   "metadata": {},
   "source": [
    "# Logistic Regression\n",
    "---\n",
    "Is it going to rain in Boise today? Create a Jupyter Notebook at that performs Logistic Regression using scikit-learn to predict the answer to this yes/no question.\n",
    "\n",
    "- [ ] **Find some data.** You’re looking for a data set that has historic weather data for Boise, Idaho. Search for one yourself, that’s part of the assignment! There are many websites that offer APIs or searches that allow free downloads of a given time range and location. Select at least one year (maybe more) of recent weather data. A good data set will have things like temperature, barometric pressure, wind speed, etc. And of course, it must have some indication about whether it rained that day, usually in the form of inches of precipitation.\n",
    "- [ ] **Pull this data into your project.** Download the data, and import it into your project as a file. Perhaps using Pandas and import it as a CSV file? You may have to create a new column indicating the label: `0 = no rain, 1 = rain`. This column is an important part of the training process. It’s not a feature, it’s a label for that given vector.\n",
    "- [ ] **Use Logistic Regression.** You’re trying to answer the question, “Is it going to rain today in Boise?” Train a model that tries to predict if it’s going to rain on a given day. The “day” is a vector/row/array/sample of given features that you feed into the model to get a prediction. Remember, you need the same number of features (columns) for a given prediction that you used to train the model.\n",
    "- [ ] **How good is your model?** Is it better than a wild guess? Document your findings in the notebook.\n",
    "- [ ] **Push Jupyter Notebook to github**"
   ]
  },
  {
   "cell_type": "markdown",
   "id": "237c2eff",
   "metadata": {},
   "source": [
    "### Finding the data\n",
    "- I found out that Weather Underground no longer gives out free weather API keys as part of their program. [Weather Underground API GONE?](https://forum.pvoutput.org/t/weather-underground-api-gone/576)\n",
    "- I submitted an order to NOAA and got the requested data. I just have to upload it to the Jupyter Notebook."
   ]
  },
  {
   "cell_type": "code",
   "execution_count": null,
   "id": "4adc8846",
   "metadata": {},
   "outputs": [],
   "source": [
    "#import pandas\n",
    "import pandas as pd\n",
    "\n",
    "col_names = ['pregnant', 'glucose', 'bp', 'skin', 'insulin', 'bmi', 'pedigree', 'age', 'label']\n",
    "\n",
    "# load dataset\n",
    "patients = pd.read_csv(\"diabetes.csv\", header=None, names=col_names, skiprows=[0])"
   ]
  }
 ],
 "metadata": {
  "kernelspec": {
   "display_name": "Python 3 (ipykernel)",
   "language": "python",
   "name": "python3"
  },
  "language_info": {
   "codemirror_mode": {
    "name": "ipython",
    "version": 3
   },
   "file_extension": ".py",
   "mimetype": "text/x-python",
   "name": "python",
   "nbconvert_exporter": "python",
   "pygments_lexer": "ipython3",
   "version": "3.9.2"
  }
 },
 "nbformat": 4,
 "nbformat_minor": 5
}
