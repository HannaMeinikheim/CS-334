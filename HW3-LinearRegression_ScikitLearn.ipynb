{
 "cells": [
  {
   "cell_type": "markdown",
   "id": "50a9daf8",
   "metadata": {},
   "source": [
    "# HW 3 CS-334\n",
    "Hanna Meinikheim\n",
    "\n",
    "8-30-2021\n",
    "\n",
    "Linear Regression"
   ]
  },
  {
   "cell_type": "markdown",
   "id": "9086d4e6",
   "metadata": {},
   "source": [
    "# Linear Regression with scikit-learn\n",
    "scikit-learn has done more to make Python the language of choice for ML than any other library (except maybe numpy). It’s used in academia, and we use it in industry. It’s worth your time to get to know scikit-learn, and how to read its documentation.\n",
    "\n",
    "In this assignment, you will create a Jupyter notebook from scratch, and use scikit-learn to create a Linear Regression model.\n",
    "1. Browse the scikit-learn documentation https://scikit-learn.org/stable/\n",
    "2. Use this data:\n",
    "data = ‘GPA’: [3.0, 3.7, 3.3, 2.5, 4.0, 3.2, 3.9, 3.0], ‘Hours Studied’:\n",
    "[2, 8, 3, 1, 12, 7, 9, 5]\n",
    "3. Create a Linear Regression model with the scikit-learn library Create\n",
    "a new Jupyter notebook, import scikit-learn, and implement linear regression using the `LinearRegression().fit` function. Make sure to output the accuracy of your model.\n",
    "4. Push Jupyter Notebook to github If you don’t already have a personal\n",
    "GitHub account, please create one and learn how to use it (`clone, add, commit, push`). Add me as a contributor to your account so I can see your code. My GitHib account is `ckennington`."
   ]
  },
  {
   "cell_type": "code",
   "execution_count": 50,
   "id": "ada3be12",
   "metadata": {},
   "outputs": [],
   "source": [
    "%matplotlib inline\n",
    "import numpy as np\n",
    "import matplotlib.pyplot as plt\n",
    "import pandas as pd\n",
    "import sklearn\n",
    "from sklearn.datasets import make_classification\n",
    "import seaborn as sns"
   ]
  },
  {
   "cell_type": "markdown",
   "id": "bcf89247",
   "metadata": {},
   "source": [
    "### Inputing data given"
   ]
  },
  {
   "cell_type": "code",
   "execution_count": 51,
   "id": "4eb5cfdb",
   "metadata": {},
   "outputs": [],
   "source": [
    "data = {'GPA': [3.0, 3.7, 3.3, 2.5, 4.0, 3.2, 3.9, 3.0], \n",
    "    'Hours Studied': [2, 8, 3, 1, 12, 7, 9, 5]\n",
    "       }\n",
    "df = pd.DataFrame(data, columns = ['GPA', 'Hours Studied'])"
   ]
  },
  {
   "cell_type": "markdown",
   "id": "5cde1b8c",
   "metadata": {},
   "source": [
    "### Printing the data"
   ]
  },
  {
   "cell_type": "code",
   "execution_count": 52,
   "id": "095a0c33",
   "metadata": {
    "scrolled": true
   },
   "outputs": [
    {
     "name": "stdout",
     "output_type": "stream",
     "text": [
      "(8, 2)\n"
     ]
    },
    {
     "data": {
      "text/html": [
       "<div>\n",
       "<style scoped>\n",
       "    .dataframe tbody tr th:only-of-type {\n",
       "        vertical-align: middle;\n",
       "    }\n",
       "\n",
       "    .dataframe tbody tr th {\n",
       "        vertical-align: top;\n",
       "    }\n",
       "\n",
       "    .dataframe thead th {\n",
       "        text-align: right;\n",
       "    }\n",
       "</style>\n",
       "<table border=\"1\" class=\"dataframe\">\n",
       "  <thead>\n",
       "    <tr style=\"text-align: right;\">\n",
       "      <th></th>\n",
       "      <th>GPA</th>\n",
       "      <th>Hours Studied</th>\n",
       "    </tr>\n",
       "  </thead>\n",
       "  <tbody>\n",
       "    <tr>\n",
       "      <th>0</th>\n",
       "      <td>3.0</td>\n",
       "      <td>2</td>\n",
       "    </tr>\n",
       "    <tr>\n",
       "      <th>1</th>\n",
       "      <td>3.7</td>\n",
       "      <td>8</td>\n",
       "    </tr>\n",
       "    <tr>\n",
       "      <th>2</th>\n",
       "      <td>3.3</td>\n",
       "      <td>3</td>\n",
       "    </tr>\n",
       "    <tr>\n",
       "      <th>3</th>\n",
       "      <td>2.5</td>\n",
       "      <td>1</td>\n",
       "    </tr>\n",
       "    <tr>\n",
       "      <th>4</th>\n",
       "      <td>4.0</td>\n",
       "      <td>12</td>\n",
       "    </tr>\n",
       "  </tbody>\n",
       "</table>\n",
       "</div>"
      ],
      "text/plain": [
       "   GPA  Hours Studied\n",
       "0  3.0              2\n",
       "1  3.7              8\n",
       "2  3.3              3\n",
       "3  2.5              1\n",
       "4  4.0             12"
      ]
     },
     "execution_count": 52,
     "metadata": {},
     "output_type": "execute_result"
    }
   ],
   "source": [
    "print(df.shape)\n",
    "df.head()"
   ]
  },
  {
   "cell_type": "markdown",
   "id": "aaba3f0a",
   "metadata": {},
   "source": [
    "### Plot on a graph"
   ]
  },
  {
   "cell_type": "code",
   "execution_count": 64,
   "id": "0a7af705",
   "metadata": {
    "scrolled": true
   },
   "outputs": [
    {
     "data": {
      "image/png": "[encoded data removed]",
      "text/plain": [
       "<Figure size 432x288 with 1 Axes>"
      ]
     },
     "metadata": {
      "needs_background": "light"
     },
     "output_type": "display_data"
    }
   ],
   "source": [
    "# Using the matplotlib library\n",
    "X = df['Hours Studied'].values\n",
    "Y = df['GPA'].values\n",
    "\n",
    "# Plotting data points\n",
    "plt.scatter(X, Y, color = 'blue', label = 'Data Point')\n",
    "\n",
    "# axis labels\n",
    "plt.xlabel(\"Hours Studied\")\n",
    "plt.ylabel(\"GPA\")\n",
    "\n",
    "plt.legend()\n",
    "plt.title(\"Data Points\")\n",
    "plt.show()"
   ]
  },
  {
   "cell_type": "markdown",
   "id": "d774268e",
   "metadata": {},
   "source": [
    "### Calculate the line\n",
    "Linear Regression, from scratch using \"least squares\" method."
   ]
  },
  {
   "cell_type": "code",
   "execution_count": 73,
   "id": "4f1c22e4",
   "metadata": {},
   "outputs": [
    {
     "name": "stdout",
     "output_type": "stream",
     "text": [
      "Slope:  0.12118959107806693 \n",
      "Y-intercept:  2.613011152416357\n"
     ]
    }
   ],
   "source": [
    "x_mean = np.mean(X)\n",
    "y_mean = np.mean(Y)\n",
    "\n",
    "# total number of values\n",
    "n = len(X)\n",
    "\n",
    "# using the least square method to calculate the b1 and b0 (y = mx + b, which is a line on a graph)\n",
    "numerator = 0 # covariance\n",
    "denominator = 0 # variance\n",
    "for i in range(n):\n",
    "    numerator += (X[i] - x_mean) * (Y[i] - y_mean)\n",
    "    denominator += (X[i] - x_mean) ** 2\n",
    "\n",
    "b1 = numerator / denominator # slope\n",
    "b0 = y_mean - (b1 * x_mean) # y-intercept\n",
    "\n",
    "# print the slope (b1) and the y-intercept (b0)\n",
    "print(\"Slope: \", b1,\"\\nY-intercept: \", b0)"
   ]
  },
  {
   "cell_type": "markdown",
   "id": "113023c9",
   "metadata": {},
   "source": [
    "### Plotting the line against the data"
   ]
  },
  {
   "cell_type": "code",
   "execution_count": 56,
   "id": "8cb64f2c",
   "metadata": {},
   "outputs": [
    {
     "data": {
      "image/png": "[encoded data removed]",
      "text/plain": [
       "<Figure size 432x288 with 1 Axes>"
      ]
     },
     "metadata": {
      "needs_background": "light"
     },
     "output_type": "display_data"
    }
   ],
   "source": [
    "# graph dimensions\n",
    "x_max = np.max(X)\n",
    "x_min = np.min(X)\n",
    "\n",
    "# calculating the line of values of x and y\n",
    "x = np.linspace(x_min, x_max, 1000)\n",
    "y = b0 + b1 * x\n",
    "\n",
    "#plotting the line\n",
    "plt.plot(x, y, color = \"Blue\", label = \"Linear Regression\")\n",
    "\n",
    "#plot the data points\n",
    "plt.scatter(X, Y, color = \"orange\", label = \"Data Point\")\n",
    "\n",
    "#x-axis label\n",
    "plt.xlabel(\"Hours Studied\")\n",
    "#y-axis label\n",
    "plt.ylabel(\"GPA\")\n",
    "\n",
    "plt.legend()\n",
    "plt.title(\"Manual Linear Regression\")\n",
    "plt.show()"
   ]
  },
  {
   "cell_type": "markdown",
   "id": "96f81376",
   "metadata": {},
   "source": [
    "The idea is that for a given number of hours studied, the line tells you the mean GPA."
   ]
  },
  {
   "cell_type": "markdown",
   "id": "312ed955",
   "metadata": {},
   "source": [
    "### How good is this \"model\"?\n",
    "Every model has ways (usually more than one) to determine accuracy.\n",
    "This example shows how good this model is depends on how much \"error\" there is between the model and all the data points.\n",
    "If you give it a new data point, it basically shows how much you can \"trust\" the model."
   ]
  },
  {
   "cell_type": "code",
   "execution_count": 58,
   "id": "2352e5c7",
   "metadata": {},
   "outputs": [
    {
     "name": "stdout",
     "output_type": "stream",
     "text": [
      "0.21019551882432927\n"
     ]
    }
   ],
   "source": [
    "# Root mean squared Error \"rmse\" method.\n",
    "rmse = 0\n",
    "for i in range(n):\n",
    "    y_pred = b0 + b1*X[i]\n",
    "    rmse += (Y[i] - y_pred) ** 2\n",
    "rmse = np.sqrt(rmse/n)\n",
    "print(rmse)\n",
    "# Lower is better. 0.0 is a perfect model, no errors."
   ]
  },
  {
   "cell_type": "code",
   "execution_count": 59,
   "id": "eef8d032",
   "metadata": {},
   "outputs": [],
   "source": [
    "import numpy as np\n",
    "from sklearn.linear_model import LinearRegression"
   ]
  },
  {
   "cell_type": "code",
   "execution_count": 60,
   "id": "36728094",
   "metadata": {},
   "outputs": [],
   "source": [
    "# need to reshape data for x\n",
    "x_reshape = X.reshape((-1, 1))\n",
    "#print(x_reshape)\n",
    "model = LinearRegression().fit(x_reshape, Y)"
   ]
  },
  {
   "cell_type": "code",
   "execution_count": 61,
   "id": "743188f5",
   "metadata": {},
   "outputs": [
    {
     "name": "stdout",
     "output_type": "stream",
     "text": [
      "coefficent of determination (R^2):  0.8073802457380754\n",
      "y-intercept:  2.613011152416357\n",
      "slope:  [0.12118959]\n"
     ]
    }
   ],
   "source": [
    "#getting results\n",
    "r_sq = model.score(x_reshape, Y)\n",
    "print(\"coefficent of determination (R^2): \", r_sq)\n",
    "print(\"y-intercept: \", model.intercept_)\n",
    "print(\"slope: \", model.coef_)"
   ]
  },
  {
   "cell_type": "code",
   "execution_count": 62,
   "id": "1a4b2e6a",
   "metadata": {},
   "outputs": [
    {
     "name": "stdout",
     "output_type": "stream",
     "text": [
      "Root mean square error:  [0.21019552]\n"
     ]
    }
   ],
   "source": [
    "# Root mean squared Error \"rmse\" method.\n",
    "rms = 0\n",
    "for i in range(n):\n",
    "    y_preds = model.intercept_ + model.coef_*X[i]\n",
    "    rms += (Y[i] - y_preds) ** 2\n",
    "rms = np.sqrt(rms/n)\n",
    "print(\"Root mean square error: \", rms)"
   ]
  },
  {
   "cell_type": "code",
   "execution_count": 72,
   "id": "54cbac1d",
   "metadata": {},
   "outputs": [
    {
     "data": {
      "image/png": "[encoded data removed]",
      "text/plain": [
       "<Figure size 432x288 with 1 Axes>"
      ]
     },
     "metadata": {
      "needs_background": "light"
     },
     "output_type": "display_data"
    }
   ],
   "source": [
    "# graph dimensions\n",
    "x_max = np.max(X)\n",
    "x_min = np.min(X)\n",
    "\n",
    "# calculating the line of values of x and y\n",
    "xe = np.linspace(x_min, x_max, 1000)\n",
    "ye = model.intercept_ + model.coef_ * x\n",
    "\n",
    "#plotting the line\n",
    "plt.plot(xe, ye, color = \"Green\", label = \"Linear Regression\")\n",
    "\n",
    "#plot the data points\n",
    "plt.scatter(X, Y, color = \"Red\", label = \"Data Point\")\n",
    "\n",
    "#x-axis label\n",
    "plt.xlabel(\"Hours Studied\")\n",
    "#y-axis label\n",
    "plt.ylabel(\"GPA\")\n",
    "\n",
    "plt.legend()\n",
    "plt.title(\"Linear Regression with scikit-learn function\")\n",
    "plt.show()"
   ]
  },
  {
   "cell_type": "code",
   "execution_count": null,
   "id": "d1f89033",
   "metadata": {},
   "outputs": [],
   "source": []
  }
 ],
 "metadata": {
  "kernelspec": {
   "display_name": "Python 3 (ipykernel)",
   "language": "python",
   "name": "python3"
  },
  "language_info": {
   "codemirror_mode": {
    "name": "ipython",
    "version": 3
   },
   "file_extension": ".py",
   "mimetype": "text/x-python",
   "name": "python",
   "nbconvert_exporter": "python",
   "pygments_lexer": "ipython3",
   "version": "3.9.2"
  }
 },
 "nbformat": 4,
 "nbformat_minor": 5
}
